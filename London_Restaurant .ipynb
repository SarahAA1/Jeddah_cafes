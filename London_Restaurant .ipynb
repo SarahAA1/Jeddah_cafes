{
 "cells": [
  {
   "cell_type": "markdown",
   "id": "7feb1258",
   "metadata": {},
   "source": [
    "# Forsquare API data"
   ]
  },
  {
   "cell_type": "markdown",
   "id": "e43fcb5b",
   "metadata": {},
   "source": [
    "In this notebook, we will try to extract the London restaurants data by using Forsquare API."
   ]
  },
  {
   "cell_type": "markdown",
   "id": "8c7ee059",
   "metadata": {},
   "source": [
    "## Import Libraries"
   ]
  },
  {
   "cell_type": "code",
   "execution_count": 1,
   "id": "f10b0bdc",
   "metadata": {},
   "outputs": [],
   "source": [
    "import pandas as pd \n",
    "import requests\n",
    "import numpy as np\n",
    "import plotly.express as px\n",
    "import geopandas\n",
    "import matplotlib.pyplot as plt"
   ]
  },
  {
   "cell_type": "markdown",
   "id": "7a1c4552",
   "metadata": {},
   "source": [
    "## Load data"
   ]
  },
  {
   "cell_type": "code",
   "execution_count": 36,
   "id": "88414c26",
   "metadata": {},
   "outputs": [],
   "source": [
    "df = pd.read_csv('Data/London_cleaned_data.csv')"
   ]
  },
  {
   "cell_type": "code",
   "execution_count": 3,
   "id": "4845b70b",
   "metadata": {},
   "outputs": [
    {
     "data": {
      "text/html": [
       "<div>\n",
       "<style scoped>\n",
       "    .dataframe tbody tr th:only-of-type {\n",
       "        vertical-align: middle;\n",
       "    }\n",
       "\n",
       "    .dataframe tbody tr th {\n",
       "        vertical-align: top;\n",
       "    }\n",
       "\n",
       "    .dataframe thead th {\n",
       "        text-align: right;\n",
       "    }\n",
       "</style>\n",
       "<table border=\"1\" class=\"dataframe\">\n",
       "  <thead>\n",
       "    <tr style=\"text-align: right;\">\n",
       "      <th></th>\n",
       "      <th>Borough</th>\n",
       "      <th>Area (sq mi)</th>\n",
       "      <th>Population_2019</th>\n",
       "      <th>Density</th>\n",
       "      <th>Median_Househols_Income</th>\n",
       "      <th>N_employees</th>\n",
       "      <th>latitude</th>\n",
       "      <th>longitude</th>\n",
       "    </tr>\n",
       "  </thead>\n",
       "  <tbody>\n",
       "    <tr>\n",
       "      <th>0</th>\n",
       "      <td>Barking and Dagenham</td>\n",
       "      <td>13.93</td>\n",
       "      <td>212906</td>\n",
       "      <td>5,871</td>\n",
       "      <td>21,953</td>\n",
       "      <td>57,715</td>\n",
       "      <td>51.5607</td>\n",
       "      <td>0.1557</td>\n",
       "    </tr>\n",
       "    <tr>\n",
       "      <th>1</th>\n",
       "      <td>Barnet</td>\n",
       "      <td>33.49</td>\n",
       "      <td>395896</td>\n",
       "      <td>4,520</td>\n",
       "      <td>34,163</td>\n",
       "      <td>134,650</td>\n",
       "      <td>51.6252</td>\n",
       "      <td>0.1517</td>\n",
       "    </tr>\n",
       "    <tr>\n",
       "      <th>2</th>\n",
       "      <td>Bexley</td>\n",
       "      <td>23.38</td>\n",
       "      <td>248287</td>\n",
       "      <td>4,082</td>\n",
       "      <td>29,192</td>\n",
       "      <td>78,930</td>\n",
       "      <td>51.4549</td>\n",
       "      <td>0.1505</td>\n",
       "    </tr>\n",
       "    <tr>\n",
       "      <th>3</th>\n",
       "      <td>Brent</td>\n",
       "      <td>16.70</td>\n",
       "      <td>329771</td>\n",
       "      <td>7,652</td>\n",
       "      <td>28,847</td>\n",
       "      <td>123,260</td>\n",
       "      <td>51.5588</td>\n",
       "      <td>0.2817</td>\n",
       "    </tr>\n",
       "    <tr>\n",
       "      <th>4</th>\n",
       "      <td>Bromley</td>\n",
       "      <td>57.97</td>\n",
       "      <td>332336</td>\n",
       "      <td>2,205</td>\n",
       "      <td>33,659</td>\n",
       "      <td>108,250</td>\n",
       "      <td>51.4039</td>\n",
       "      <td>0.0198</td>\n",
       "    </tr>\n",
       "  </tbody>\n",
       "</table>\n",
       "</div>"
      ],
      "text/plain": [
       "                Borough  Area (sq mi)  Population_2019 Density  \\\n",
       "0  Barking and Dagenham         13.93           212906   5,871   \n",
       "1                Barnet         33.49           395896   4,520   \n",
       "2                Bexley         23.38           248287   4,082   \n",
       "3                 Brent         16.70           329771   7,652   \n",
       "4               Bromley         57.97           332336   2,205   \n",
       "\n",
       "  Median_Househols_Income N_employees  latitude  longitude  \n",
       "0                  21,953      57,715   51.5607     0.1557  \n",
       "1                  34,163     134,650   51.6252     0.1517  \n",
       "2                  29,192      78,930   51.4549     0.1505  \n",
       "3                  28,847     123,260   51.5588     0.2817  \n",
       "4                  33,659     108,250   51.4039     0.0198  "
      ]
     },
     "execution_count": 3,
     "metadata": {},
     "output_type": "execute_result"
    }
   ],
   "source": [
    "df.head()"
   ]
  },
  {
   "cell_type": "code",
   "execution_count": 4,
   "id": "85f282c7",
   "metadata": {},
   "outputs": [
    {
     "data": {
      "text/plain": [
       "(32, 8)"
      ]
     },
     "execution_count": 4,
     "metadata": {},
     "output_type": "execute_result"
    }
   ],
   "source": [
    "df.shape"
   ]
  },
  {
   "cell_type": "markdown",
   "id": "c1355170",
   "metadata": {},
   "source": [
    "## Getting Venue Data with Forsquare API"
   ]
  },
  {
   "cell_type": "code",
   "execution_count": 5,
   "id": "9dd52b75",
   "metadata": {},
   "outputs": [],
   "source": [
    "# Id and secret keys were generated from Forsquare page.\n",
    "CLIENT_ID = 'JA0UD4KWLUM24COSVJ3LKDXDYVHZYNQO3JGP5NLOLGIOCTNU' \n",
    "CLIENT_SECRET = 'MIXEAQFT3WQIQKCE1JATODXR5MLJ1MV5BLYIOUNMXE4CUGHS' \n",
    "VERSION = '20220307'\n",
    "# using the FREE API has to be limited to 50 venues for each time.\n",
    "LIMIT = 50\n",
    "\n"
   ]
  },
  {
   "cell_type": "markdown",
   "id": "0f2b7d70",
   "metadata": {},
   "source": [
    "### Extract the Restaurants Data by using the Categories_id "
   ]
  },
  {
   "cell_type": "code",
   "execution_count": 6,
   "id": "1896f77b",
   "metadata": {},
   "outputs": [],
   "source": [
    "# london center latitude and longitude\n",
    "lat = 51.50\n",
    "lng = 0.11\n",
    "\n",
    "\n",
    "def getNearbyVenues(names, latitudes, longitudes, radius=2000):\n",
    "    headers = {\n",
    "        'Accept': 'application/json',\n",
    "        'Authorization': 'fsq3h2a9Hns91x/XBRQWiSZ4EiwvDroa5ltFP6nxbhF2haU='\n",
    "    }\n",
    "    # This categories id 1306 for FOOD from the Forsquare documentation.\n",
    "\n",
    "    URL = 'https://api.foursquare.com/v3/places/search?ll={},{}&radius={}&limit={}&categories=13065'\n",
    "\n",
    "    df_list=[]\n",
    "    \n",
    "    for name, lat, lng in zip(names, latitudes, longitudes):\n",
    "        url = URL.format(lat, lng, radius, LIMIT)\n",
    "        results = requests.request(\"GET\", url, headers=headers).json()\n",
    "        for each_result in results['results']: # filter the result based on JSON identification\n",
    "            result={}\n",
    "            result['Borough']=name\n",
    "            result['Neighborhood Latitude']=lat\n",
    "            result['Neighborhood Longitude']=lng\n",
    "            result['Name']=each_result['name']\n",
    "            try: \n",
    "                result['Restaurant Latitude']=each_result['geocodes']['main']['latitude']\n",
    "                result['Restaurant Longitude']=each_result['geocodes']['main']['longitude']\n",
    "                # some venues have an NAN latitude & longitude and to avoid the errors, we fill them with \"\"\n",
    "            except:\n",
    "                result['Restaurant Latitude']=\"\"\n",
    "                result['Restaurant Longitude']=\"\"\n",
    "            result['Category_Names']=each_result['categories'][0]['name']\n",
    "\n",
    "\n",
    "            df_list.append(result.copy())\n",
    "    return pd.DataFrame(df_list) # return dataframe"
   ]
  },
  {
   "cell_type": "code",
   "execution_count": 7,
   "id": "e7b917cd",
   "metadata": {},
   "outputs": [],
   "source": [
    "\n",
    "# call the function\n",
    "df_result=getNearbyVenues(df['Borough'],df['latitude'],df['longitude'])\n"
   ]
  },
  {
   "cell_type": "code",
   "execution_count": 8,
   "id": "72916a2f",
   "metadata": {},
   "outputs": [
    {
     "data": {
      "text/plain": [
       "(1188, 7)"
      ]
     },
     "execution_count": 8,
     "metadata": {},
     "output_type": "execute_result"
    }
   ],
   "source": [
    "df_result.shape"
   ]
  },
  {
   "cell_type": "markdown",
   "id": "b20202d1",
   "metadata": {},
   "source": [
    "We got around 1200 London restaurants data. We will try again by using the query instead of the category_id."
   ]
  },
  {
   "cell_type": "markdown",
   "id": "fae3c377",
   "metadata": {},
   "source": [
    "### Extract the London Restaurants Data by using 'query=restaurant'"
   ]
  },
  {
   "cell_type": "code",
   "execution_count": 9,
   "id": "f15900e6",
   "metadata": {},
   "outputs": [],
   "source": [
    "# The same as the function above but we change the URL \n",
    "\n",
    "def getNearbyVenues1(names, latitudes, longitudes, radius=2000):\n",
    "    headers = {\n",
    "        'Accept': 'application/json',\n",
    "        'Authorization': 'fsq3h2a9Hns91x/XBRQWiSZ4EiwvDroa5ltFP6nxbhF2haU='\n",
    "    }\n",
    "\n",
    "    URL = 'https://api.foursquare.com/v3/places/search?ll={},{}&radius={}&limit={}&query=restaurant'\n",
    "\n",
    "    df_list=[]\n",
    "    \n",
    "    for name, lat, lng in zip(names, latitudes, longitudes):\n",
    "        url = URL.format(lat, lng, radius, LIMIT)\n",
    "        results = requests.request(\"GET\", url, headers=headers).json()\n",
    "        for each_result in results['results']: # filter the result based on JSON identification\n",
    "            result={}\n",
    "            result['Borough']=name\n",
    "            result['Neighborhood Latitude']=lat\n",
    "            result['Neighborhood Longitude']=lng\n",
    "            result['Name']=each_result['name']\n",
    "            try:\n",
    "                result['Restaurant Latitude']=each_result['geocodes']['main']['latitude']\n",
    "                result['Restaurant Longitude']=each_result['geocodes']['main']['longitude']\n",
    "            except:\n",
    "                result['Restaurant Latitude']=\"\"\n",
    "                result['Restaurant Longitude']=\"\"\n",
    "            #result['Locality']=each_result['location']['locality']\n",
    "            result['Category_Names']=each_result['categories'][0]['name']\n",
    "\n",
    "\n",
    "            df_list.append(result.copy())\n",
    "    return pd.DataFrame(df_list) # return dataframe"
   ]
  },
  {
   "cell_type": "code",
   "execution_count": 10,
   "id": "ed4d3dad",
   "metadata": {},
   "outputs": [],
   "source": [
    "\n",
    "# call the function\n",
    "df_result1=getNearbyVenues1(df['Borough'],df['latitude'],df['longitude'])\n"
   ]
  },
  {
   "cell_type": "code",
   "execution_count": 11,
   "id": "ec7aa455",
   "metadata": {},
   "outputs": [
    {
     "data": {
      "text/plain": [
       "(825, 7)"
      ]
     },
     "execution_count": 11,
     "metadata": {},
     "output_type": "execute_result"
    }
   ],
   "source": [
    "df_result1.shape"
   ]
  },
  {
   "cell_type": "markdown",
   "id": "18a06501",
   "metadata": {},
   "source": [
    "We got around 825 London restaurants data. We will try again by using another query."
   ]
  },
  {
   "cell_type": "markdown",
   "id": "a21242da",
   "metadata": {},
   "source": [
    "Here we want to check if we get venues from all the London boroughs."
   ]
  },
  {
   "cell_type": "code",
   "execution_count": 12,
   "id": "dbecdcd1",
   "metadata": {},
   "outputs": [
    {
     "data": {
      "text/plain": [
       "32"
      ]
     },
     "execution_count": 12,
     "metadata": {},
     "output_type": "execute_result"
    }
   ],
   "source": [
    "df['Borough'].nunique()"
   ]
  },
  {
   "cell_type": "code",
   "execution_count": 13,
   "id": "350a4d3b",
   "metadata": {},
   "outputs": [
    {
     "data": {
      "text/plain": [
       "32"
      ]
     },
     "execution_count": 13,
     "metadata": {},
     "output_type": "execute_result"
    }
   ],
   "source": [
    "df_result['Borough'].nunique()"
   ]
  },
  {
   "cell_type": "code",
   "execution_count": 16,
   "id": "9a716618",
   "metadata": {},
   "outputs": [],
   "source": [
    "# merging the two dataframes \n",
    "London = pd.concat([df_result,df_result1], axis=0)\n"
   ]
  },
  {
   "cell_type": "code",
   "execution_count": 17,
   "id": "5d206e71",
   "metadata": {},
   "outputs": [
    {
     "data": {
      "text/html": [
       "<div>\n",
       "<style scoped>\n",
       "    .dataframe tbody tr th:only-of-type {\n",
       "        vertical-align: middle;\n",
       "    }\n",
       "\n",
       "    .dataframe tbody tr th {\n",
       "        vertical-align: top;\n",
       "    }\n",
       "\n",
       "    .dataframe thead th {\n",
       "        text-align: right;\n",
       "    }\n",
       "</style>\n",
       "<table border=\"1\" class=\"dataframe\">\n",
       "  <thead>\n",
       "    <tr style=\"text-align: right;\">\n",
       "      <th></th>\n",
       "      <th>Borough</th>\n",
       "      <th>Neighborhood Latitude</th>\n",
       "      <th>Neighborhood Longitude</th>\n",
       "      <th>Name</th>\n",
       "      <th>Restaurant Latitude</th>\n",
       "      <th>Restaurant Longitude</th>\n",
       "      <th>Category_Names</th>\n",
       "    </tr>\n",
       "  </thead>\n",
       "  <tbody>\n",
       "    <tr>\n",
       "      <th>0</th>\n",
       "      <td>Barking and Dagenham</td>\n",
       "      <td>51.5607</td>\n",
       "      <td>0.1557</td>\n",
       "      <td>Lara Grill</td>\n",
       "      <td>51.562533</td>\n",
       "      <td>0.147262</td>\n",
       "      <td>Fast Food Restaurant</td>\n",
       "    </tr>\n",
       "    <tr>\n",
       "      <th>1</th>\n",
       "      <td>Barking and Dagenham</td>\n",
       "      <td>51.5607</td>\n",
       "      <td>0.1557</td>\n",
       "      <td>The Beacon Tree</td>\n",
       "      <td>51.561391</td>\n",
       "      <td>0.140883</td>\n",
       "      <td>Pub</td>\n",
       "    </tr>\n",
       "    <tr>\n",
       "      <th>2</th>\n",
       "      <td>Barking and Dagenham</td>\n",
       "      <td>51.5607</td>\n",
       "      <td>0.1557</td>\n",
       "      <td>Domino's Pizza</td>\n",
       "      <td>51.572111</td>\n",
       "      <td>0.137844</td>\n",
       "      <td>Pizzeria</td>\n",
       "    </tr>\n",
       "    <tr>\n",
       "      <th>3</th>\n",
       "      <td>Barking and Dagenham</td>\n",
       "      <td>51.5607</td>\n",
       "      <td>0.1557</td>\n",
       "      <td>Subway</td>\n",
       "      <td>51.568813</td>\n",
       "      <td>0.178686</td>\n",
       "      <td>Fast Food Restaurant</td>\n",
       "    </tr>\n",
       "    <tr>\n",
       "      <th>4</th>\n",
       "      <td>Barking and Dagenham</td>\n",
       "      <td>51.5607</td>\n",
       "      <td>0.1557</td>\n",
       "      <td>Millennium Cafe</td>\n",
       "      <td>51.562272</td>\n",
       "      <td>0.147468</td>\n",
       "      <td>Café</td>\n",
       "    </tr>\n",
       "  </tbody>\n",
       "</table>\n",
       "</div>"
      ],
      "text/plain": [
       "                Borough  Neighborhood Latitude  Neighborhood Longitude  \\\n",
       "0  Barking and Dagenham                51.5607                  0.1557   \n",
       "1  Barking and Dagenham                51.5607                  0.1557   \n",
       "2  Barking and Dagenham                51.5607                  0.1557   \n",
       "3  Barking and Dagenham                51.5607                  0.1557   \n",
       "4  Barking and Dagenham                51.5607                  0.1557   \n",
       "\n",
       "              Name Restaurant Latitude Restaurant Longitude  \\\n",
       "0       Lara Grill           51.562533             0.147262   \n",
       "1  The Beacon Tree           51.561391             0.140883   \n",
       "2   Domino's Pizza           51.572111             0.137844   \n",
       "3           Subway           51.568813             0.178686   \n",
       "4  Millennium Cafe           51.562272             0.147468   \n",
       "\n",
       "         Category_Names  \n",
       "0  Fast Food Restaurant  \n",
       "1                   Pub  \n",
       "2              Pizzeria  \n",
       "3  Fast Food Restaurant  \n",
       "4                  Café  "
      ]
     },
     "execution_count": 17,
     "metadata": {},
     "output_type": "execute_result"
    }
   ],
   "source": [
    "London.head()"
   ]
  },
  {
   "cell_type": "code",
   "execution_count": 18,
   "id": "631c6567",
   "metadata": {
    "scrolled": true
   },
   "outputs": [
    {
     "data": {
      "text/plain": [
       "321"
      ]
     },
     "execution_count": 18,
     "metadata": {},
     "output_type": "execute_result"
    }
   ],
   "source": [
    "# check if there's any duplicated rows\n",
    "len(London[London.duplicated()])"
   ]
  },
  {
   "cell_type": "code",
   "execution_count": 19,
   "id": "33f6883d",
   "metadata": {},
   "outputs": [],
   "source": [
    "# drop any duplicates values except the first occurrence\n",
    "London = London.drop_duplicates( keep='first')"
   ]
  },
  {
   "cell_type": "code",
   "execution_count": 20,
   "id": "fedac5ba",
   "metadata": {},
   "outputs": [
    {
     "data": {
      "text/plain": [
       "(1692, 7)"
      ]
     },
     "execution_count": 20,
     "metadata": {},
     "output_type": "execute_result"
    }
   ],
   "source": [
    "London.shape"
   ]
  },
  {
   "cell_type": "code",
   "execution_count": 21,
   "id": "9d258eec",
   "metadata": {},
   "outputs": [],
   "source": [
    "# extract the dataframe \n",
    "London.to_csv(\"Data/London_restaurants.csv\", index = False)"
   ]
  },
  {
   "cell_type": "markdown",
   "id": "3cc234cb",
   "metadata": {},
   "source": [
    "## Merge the London Restaurants Dataframe to  London Boroughs Dataframe"
   ]
  },
  {
   "cell_type": "code",
   "execution_count": 37,
   "id": "6bd84e8b",
   "metadata": {},
   "outputs": [],
   "source": [
    "# we will merge the dataframes based on the Borough values\n",
    "df_final = London.merge(df,on='Borough')\n"
   ]
  },
  {
   "cell_type": "code",
   "execution_count": 38,
   "id": "c17d4524",
   "metadata": {},
   "outputs": [
    {
     "data": {
      "text/plain": [
       "(1692, 14)"
      ]
     },
     "execution_count": 38,
     "metadata": {},
     "output_type": "execute_result"
    }
   ],
   "source": [
    "df_final.shape"
   ]
  },
  {
   "cell_type": "code",
   "execution_count": 39,
   "id": "3d4f3405",
   "metadata": {},
   "outputs": [
    {
     "data": {
      "text/plain": [
       "Index(['Borough', 'Neighborhood Latitude', 'Neighborhood Longitude', 'Name',\n",
       "       'Restaurant Latitude', 'Restaurant Longitude', 'Category_Names',\n",
       "       'Area (sq mi)', 'Population_2019', 'Density', 'Median_Househols_Income',\n",
       "       'N_employees', 'latitude', 'longitude'],\n",
       "      dtype='object')"
      ]
     },
     "execution_count": 39,
     "metadata": {},
     "output_type": "execute_result"
    }
   ],
   "source": [
    "# print the columns name after merging \n",
    "df_final.columns"
   ]
  },
  {
   "cell_type": "code",
   "execution_count": 40,
   "id": "a5edfa2b",
   "metadata": {},
   "outputs": [
    {
     "data": {
      "text/plain": [
       "Borough                     object\n",
       "Neighborhood Latitude      float64\n",
       "Neighborhood Longitude     float64\n",
       "Name                        object\n",
       "Restaurant Latitude         object\n",
       "Restaurant Longitude        object\n",
       "Category_Names              object\n",
       "Area (sq mi)               float64\n",
       "Population_2019              int64\n",
       "Density                    float64\n",
       "Median_Househols_Income    float64\n",
       "N_employees                float64\n",
       "latitude                   float64\n",
       "longitude                  float64\n",
       "dtype: object"
      ]
     },
     "execution_count": 40,
     "metadata": {},
     "output_type": "execute_result"
    }
   ],
   "source": [
    "df_final.dtypes"
   ]
  },
  {
   "cell_type": "markdown",
   "id": "232851e5",
   "metadata": {},
   "source": [
    "We could notice that, Neighborhood Latitude & Neighborhood Longitude column which has been extract from the Foursquare is similar to the latitude & longitude columns. Thus, we will remove one and keep others."
   ]
  },
  {
   "cell_type": "code",
   "execution_count": 41,
   "id": "57bbb73c",
   "metadata": {
    "scrolled": false
   },
   "outputs": [],
   "source": [
    "df_final = df_final.drop(columns=['latitude', 'longitude'])"
   ]
  },
  {
   "cell_type": "code",
   "execution_count": 42,
   "id": "055c4b8d",
   "metadata": {
    "scrolled": true
   },
   "outputs": [
    {
     "data": {
      "text/html": [
       "<div>\n",
       "<style scoped>\n",
       "    .dataframe tbody tr th:only-of-type {\n",
       "        vertical-align: middle;\n",
       "    }\n",
       "\n",
       "    .dataframe tbody tr th {\n",
       "        vertical-align: top;\n",
       "    }\n",
       "\n",
       "    .dataframe thead th {\n",
       "        text-align: right;\n",
       "    }\n",
       "</style>\n",
       "<table border=\"1\" class=\"dataframe\">\n",
       "  <thead>\n",
       "    <tr style=\"text-align: right;\">\n",
       "      <th></th>\n",
       "      <th>Borough</th>\n",
       "      <th>Neighborhood Latitude</th>\n",
       "      <th>Neighborhood Longitude</th>\n",
       "      <th>Name</th>\n",
       "      <th>Restaurant Latitude</th>\n",
       "      <th>Restaurant Longitude</th>\n",
       "      <th>Category_Names</th>\n",
       "      <th>Area (sq mi)</th>\n",
       "      <th>Population_2019</th>\n",
       "      <th>Density</th>\n",
       "      <th>Median_Househols_Income</th>\n",
       "      <th>N_employees</th>\n",
       "    </tr>\n",
       "  </thead>\n",
       "  <tbody>\n",
       "    <tr>\n",
       "      <th>0</th>\n",
       "      <td>Barking and Dagenham</td>\n",
       "      <td>51.5607</td>\n",
       "      <td>0.1557</td>\n",
       "      <td>Lara Grill</td>\n",
       "      <td>51.562533</td>\n",
       "      <td>0.147262</td>\n",
       "      <td>Fast Food Restaurant</td>\n",
       "      <td>13.93</td>\n",
       "      <td>212906</td>\n",
       "      <td>5.871</td>\n",
       "      <td>21.953</td>\n",
       "      <td>57.715</td>\n",
       "    </tr>\n",
       "    <tr>\n",
       "      <th>1</th>\n",
       "      <td>Barking and Dagenham</td>\n",
       "      <td>51.5607</td>\n",
       "      <td>0.1557</td>\n",
       "      <td>The Beacon Tree</td>\n",
       "      <td>51.561391</td>\n",
       "      <td>0.140883</td>\n",
       "      <td>Pub</td>\n",
       "      <td>13.93</td>\n",
       "      <td>212906</td>\n",
       "      <td>5.871</td>\n",
       "      <td>21.953</td>\n",
       "      <td>57.715</td>\n",
       "    </tr>\n",
       "    <tr>\n",
       "      <th>2</th>\n",
       "      <td>Barking and Dagenham</td>\n",
       "      <td>51.5607</td>\n",
       "      <td>0.1557</td>\n",
       "      <td>Domino's Pizza</td>\n",
       "      <td>51.572111</td>\n",
       "      <td>0.137844</td>\n",
       "      <td>Pizzeria</td>\n",
       "      <td>13.93</td>\n",
       "      <td>212906</td>\n",
       "      <td>5.871</td>\n",
       "      <td>21.953</td>\n",
       "      <td>57.715</td>\n",
       "    </tr>\n",
       "    <tr>\n",
       "      <th>3</th>\n",
       "      <td>Barking and Dagenham</td>\n",
       "      <td>51.5607</td>\n",
       "      <td>0.1557</td>\n",
       "      <td>Subway</td>\n",
       "      <td>51.568813</td>\n",
       "      <td>0.178686</td>\n",
       "      <td>Fast Food Restaurant</td>\n",
       "      <td>13.93</td>\n",
       "      <td>212906</td>\n",
       "      <td>5.871</td>\n",
       "      <td>21.953</td>\n",
       "      <td>57.715</td>\n",
       "    </tr>\n",
       "    <tr>\n",
       "      <th>4</th>\n",
       "      <td>Barking and Dagenham</td>\n",
       "      <td>51.5607</td>\n",
       "      <td>0.1557</td>\n",
       "      <td>Millennium Cafe</td>\n",
       "      <td>51.562272</td>\n",
       "      <td>0.147468</td>\n",
       "      <td>Café</td>\n",
       "      <td>13.93</td>\n",
       "      <td>212906</td>\n",
       "      <td>5.871</td>\n",
       "      <td>21.953</td>\n",
       "      <td>57.715</td>\n",
       "    </tr>\n",
       "  </tbody>\n",
       "</table>\n",
       "</div>"
      ],
      "text/plain": [
       "                Borough  Neighborhood Latitude  Neighborhood Longitude  \\\n",
       "0  Barking and Dagenham                51.5607                  0.1557   \n",
       "1  Barking and Dagenham                51.5607                  0.1557   \n",
       "2  Barking and Dagenham                51.5607                  0.1557   \n",
       "3  Barking and Dagenham                51.5607                  0.1557   \n",
       "4  Barking and Dagenham                51.5607                  0.1557   \n",
       "\n",
       "              Name Restaurant Latitude Restaurant Longitude  \\\n",
       "0       Lara Grill           51.562533             0.147262   \n",
       "1  The Beacon Tree           51.561391             0.140883   \n",
       "2   Domino's Pizza           51.572111             0.137844   \n",
       "3           Subway           51.568813             0.178686   \n",
       "4  Millennium Cafe           51.562272             0.147468   \n",
       "\n",
       "         Category_Names  Area (sq mi)  Population_2019  Density  \\\n",
       "0  Fast Food Restaurant         13.93           212906    5.871   \n",
       "1                   Pub         13.93           212906    5.871   \n",
       "2              Pizzeria         13.93           212906    5.871   \n",
       "3  Fast Food Restaurant         13.93           212906    5.871   \n",
       "4                  Café         13.93           212906    5.871   \n",
       "\n",
       "   Median_Househols_Income  N_employees  \n",
       "0                   21.953       57.715  \n",
       "1                   21.953       57.715  \n",
       "2                   21.953       57.715  \n",
       "3                   21.953       57.715  \n",
       "4                   21.953       57.715  "
      ]
     },
     "execution_count": 42,
     "metadata": {},
     "output_type": "execute_result"
    }
   ],
   "source": [
    "df_final.head()"
   ]
  },
  {
   "cell_type": "code",
   "execution_count": null,
   "id": "065d8e0f",
   "metadata": {},
   "outputs": [],
   "source": []
  },
  {
   "cell_type": "code",
   "execution_count": 43,
   "id": "c8c1c22f",
   "metadata": {},
   "outputs": [],
   "source": [
    "# export the dataframe which contains London's boroughs data and restaurants data.\n",
    "df_final.to_csv(\"Data/final_data.csv\", index = False)"
   ]
  },
  {
   "cell_type": "markdown",
   "id": "b1a9fcbf",
   "metadata": {},
   "source": [
    "## Visualising and Understanding the Data"
   ]
  },
  {
   "cell_type": "markdown",
   "id": "1360328e",
   "metadata": {},
   "source": [
    "## Bar chart "
   ]
  },
  {
   "cell_type": "code",
   "execution_count": null,
   "id": "d6385c87",
   "metadata": {},
   "outputs": [],
   "source": [
    "# Create a Bar chart to plot each Borough's population\n",
    "\n",
    "bar1 = london_boroughs.sort_values(by='Population_2019', ascending=False).plot(kind='bar', \n",
    "                                                         x='Borough', y='Population_2019', figsize=(15, 3));\n",
    "# Title and axis labels\n",
    "bar1.set_title(\"Borough Population in London (2019)\");\n",
    "bar1.set_xlabel(\"Borough\");\n",
    "bar1.set_ylabel(\"Total Population in 2019\");\n",
    "\n"
   ]
  },
  {
   "cell_type": "code",
   "execution_count": null,
   "id": "04ac46e6",
   "metadata": {},
   "outputs": [],
   "source": [
    "# create bar chart of borough and number of cafes\n",
    "bar2 = df.Borough.value_counts(ascending=False).plot(kind = 'bar',figsize=(15, 3), color='darkblue', rot= 25, linewidth = 4, edgecolor='white')                                   \n",
    "# Title and axis labels\n",
    "bar2.set_title(\"Borough Population in London (2019)\");\n",
    "bar2.set_xlabel(\"Borough\" );\n",
    "bar2.set_ylabel(\"Total Population in 2019\");\n",
    "#counts.sort_values(ascending=False).plot(kind='bar', color='darkblue')\n",
    "#plt.xticks()"
   ]
  },
  {
   "cell_type": "code",
   "execution_count": null,
   "id": "2c92b063",
   "metadata": {},
   "outputs": [],
   "source": [
    "df.Borough.value_counts()"
   ]
  },
  {
   "cell_type": "code",
   "execution_count": null,
   "id": "3b3d5651",
   "metadata": {},
   "outputs": [],
   "source": [
    "df.Category_Names.value_counts() \n",
    "\n",
    "# some of the cafe have different categories - encoding  "
   ]
  },
  {
   "cell_type": "code",
   "execution_count": null,
   "id": "d711c3b5",
   "metadata": {},
   "outputs": [],
   "source": []
  },
  {
   "cell_type": "markdown",
   "id": "0b98907d",
   "metadata": {},
   "source": [
    "# Haven't Finished it yet\n",
    "\n",
    "\n",
    "\n",
    "\n",
    "- Boroughs that we should consider, based on population count:\n",
    "\n",
    "- Boroughs that we should consider, based on population density:\n",
    "\n",
    "\n",
    "## Feature need to be added:\n",
    "- Density population/Area\n",
    "- create a list for Competitors  \n",
    "\n",
    "## Want to achieve \n",
    "\n",
    "-  Create a Dataframe with top 5 common cafe types for each neighbourhood \"tea room, with a restaurant, so on.. \"\n",
    "- Clustering Neighbourhoods\n",
    "\n",
    "We will use KMeans algorithm in order to cluster similar London neighbourhoods. Then, explore how many competitors by category. \n",
    "\n",
    "Recommendation each boroughs with the category \n",
    "\n"
   ]
  },
  {
   "cell_type": "code",
   "execution_count": null,
   "id": "ffd23ecc",
   "metadata": {},
   "outputs": [],
   "source": [
    "df['Borough'] = df['Borough'].str.strip()\n"
   ]
  },
  {
   "cell_type": "code",
   "execution_count": null,
   "id": "a801518f",
   "metadata": {},
   "outputs": [],
   "source": [
    "df[\"id\"] = df[\"Borough\"].apply(lambda x: state_id_map[x])\n"
   ]
  },
  {
   "cell_type": "code",
   "execution_count": null,
   "id": "9f3670ba",
   "metadata": {},
   "outputs": [],
   "source": [
    "df.Borough = df.Borough.astype('string')\n"
   ]
  },
  {
   "cell_type": "code",
   "execution_count": null,
   "id": "0748aba7",
   "metadata": {},
   "outputs": [],
   "source": [
    "state_id_map = {}\n",
    "for feature in UK[\"name\"]:\n",
    "    feature[\"id\"] = feature[\"properties\"][\"state_code\"]\n",
    "    state_id_map[feature[\"properties\"][\"st_nm\"]] = feature[\"id\"]\n",
    "\n",
    "\n"
   ]
  },
  {
   "cell_type": "code",
   "execution_count": null,
   "id": "3a707f40",
   "metadata": {},
   "outputs": [],
   "source": [
    "fig = px.choropleth(\n",
    "    df,\n",
    "    locations=\"id\",\n",
    "    geojson= UK,\n",
    "    color=\"Population_scale\",\n",
    "    hover_name=\"Borough\",\n",
    "    hover_data=[\"Population_scale\"],\n",
    "    title=\"London Population Density\",\n",
    ")\n",
    "fig.update_geos(fitbounds=\"locations\", visible=False)\n",
    "fig.show()"
   ]
  },
  {
   "cell_type": "code",
   "execution_count": null,
   "id": "2dc079a6",
   "metadata": {},
   "outputs": [],
   "source": [
    "df.dtypes"
   ]
  },
  {
   "cell_type": "code",
   "execution_count": null,
   "id": "57859082",
   "metadata": {},
   "outputs": [],
   "source": []
  }
 ],
 "metadata": {
  "kernelspec": {
   "display_name": "Python 3 (ipykernel)",
   "language": "python",
   "name": "python3"
  },
  "language_info": {
   "codemirror_mode": {
    "name": "ipython",
    "version": 3
   },
   "file_extension": ".py",
   "mimetype": "text/x-python",
   "name": "python",
   "nbconvert_exporter": "python",
   "pygments_lexer": "ipython3",
   "version": "3.9.9"
  },
  "toc": {
   "base_numbering": 1,
   "nav_menu": {},
   "number_sections": true,
   "sideBar": true,
   "skip_h1_title": false,
   "title_cell": "Table of Contents",
   "title_sidebar": "Contents",
   "toc_cell": false,
   "toc_position": {},
   "toc_section_display": true,
   "toc_window_display": false
  },
  "varInspector": {
   "cols": {
    "lenName": 16,
    "lenType": 16,
    "lenVar": 40
   },
   "kernels_config": {
    "python": {
     "delete_cmd_postfix": "",
     "delete_cmd_prefix": "del ",
     "library": "var_list.py",
     "varRefreshCmd": "print(var_dic_list())"
    },
    "r": {
     "delete_cmd_postfix": ") ",
     "delete_cmd_prefix": "rm(",
     "library": "var_list.r",
     "varRefreshCmd": "cat(var_dic_list()) "
    }
   },
   "types_to_exclude": [
    "module",
    "function",
    "builtin_function_or_method",
    "instance",
    "_Feature"
   ],
   "window_display": false
  }
 },
 "nbformat": 4,
 "nbformat_minor": 5
}
