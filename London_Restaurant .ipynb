{
 "cells": [
  {
   "cell_type": "markdown",
   "id": "7feb1258",
   "metadata": {},
   "source": [
    "# Forsquare API data"
   ]
  },
  {
   "cell_type": "markdown",
   "id": "8c7ee059",
   "metadata": {},
   "source": [
    "## import libraries"
   ]
  },
  {
   "cell_type": "code",
   "execution_count": 1,
   "id": "f10b0bdc",
   "metadata": {},
   "outputs": [],
   "source": [
    "import pandas as pd \n",
    "import requests\n",
    "from pandas_profiling import ProfileReport\n",
    "\n",
    "from geopy.geocoders import Nominatim \n",
    "\n",
    "# Maps visualization\n",
    "import folium\n",
    "import numpy as np\n",
    "import plotly.express as px\n",
    "\n",
    "import geopandas\n",
    "import matplotlib.pyplot as plt"
   ]
  },
  {
   "cell_type": "markdown",
   "id": "7a1c4552",
   "metadata": {},
   "source": [
    "## Load data"
   ]
  },
  {
   "cell_type": "code",
   "execution_count": 2,
   "id": "88414c26",
   "metadata": {},
   "outputs": [],
   "source": [
    "df = pd.read_csv('Data/clean_london_data.csv')"
   ]
  },
  {
   "cell_type": "code",
   "execution_count": 3,
   "id": "4845b70b",
   "metadata": {},
   "outputs": [
    {
     "data": {
      "text/html": [
       "<div>\n",
       "<style scoped>\n",
       "    .dataframe tbody tr th:only-of-type {\n",
       "        vertical-align: middle;\n",
       "    }\n",
       "\n",
       "    .dataframe tbody tr th {\n",
       "        vertical-align: top;\n",
       "    }\n",
       "\n",
       "    .dataframe thead th {\n",
       "        text-align: right;\n",
       "    }\n",
       "</style>\n",
       "<table border=\"1\" class=\"dataframe\">\n",
       "  <thead>\n",
       "    <tr style=\"text-align: right;\">\n",
       "      <th></th>\n",
       "      <th>Borough</th>\n",
       "      <th>Area (sq mi)</th>\n",
       "      <th>Population_2019</th>\n",
       "      <th>Density</th>\n",
       "      <th>Median_Househols_Income</th>\n",
       "      <th>N_employees</th>\n",
       "      <th>latitude</th>\n",
       "      <th>longitude</th>\n",
       "    </tr>\n",
       "  </thead>\n",
       "  <tbody>\n",
       "    <tr>\n",
       "      <th>0</th>\n",
       "      <td>Barnet</td>\n",
       "      <td>33.49</td>\n",
       "      <td>395896</td>\n",
       "      <td>4,520</td>\n",
       "      <td>34,163</td>\n",
       "      <td>134,650</td>\n",
       "      <td>51.6252</td>\n",
       "      <td>0.1517</td>\n",
       "    </tr>\n",
       "    <tr>\n",
       "      <th>1</th>\n",
       "      <td>Bexley</td>\n",
       "      <td>23.38</td>\n",
       "      <td>248287</td>\n",
       "      <td>4,082</td>\n",
       "      <td>29,192</td>\n",
       "      <td>78,930</td>\n",
       "      <td>51.4549</td>\n",
       "      <td>0.1505</td>\n",
       "    </tr>\n",
       "    <tr>\n",
       "      <th>2</th>\n",
       "      <td>Brent</td>\n",
       "      <td>16.70</td>\n",
       "      <td>329771</td>\n",
       "      <td>7,652</td>\n",
       "      <td>28,847</td>\n",
       "      <td>123,260</td>\n",
       "      <td>51.5588</td>\n",
       "      <td>0.2817</td>\n",
       "    </tr>\n",
       "    <tr>\n",
       "      <th>3</th>\n",
       "      <td>Bromley</td>\n",
       "      <td>57.97</td>\n",
       "      <td>332336</td>\n",
       "      <td>2,205</td>\n",
       "      <td>33,659</td>\n",
       "      <td>108,250</td>\n",
       "      <td>51.4039</td>\n",
       "      <td>0.0198</td>\n",
       "    </tr>\n",
       "    <tr>\n",
       "      <th>4</th>\n",
       "      <td>Camden</td>\n",
       "      <td>8.40</td>\n",
       "      <td>270029</td>\n",
       "      <td>12,035</td>\n",
       "      <td>36,053</td>\n",
       "      <td>382,785</td>\n",
       "      <td>51.5290</td>\n",
       "      <td>0.1255</td>\n",
       "    </tr>\n",
       "  </tbody>\n",
       "</table>\n",
       "</div>"
      ],
      "text/plain": [
       "   Borough  Area (sq mi)  Population_2019 Density Median_Househols_Income  \\\n",
       "0   Barnet         33.49           395896   4,520                  34,163   \n",
       "1   Bexley         23.38           248287   4,082                  29,192   \n",
       "2    Brent         16.70           329771   7,652                  28,847   \n",
       "3  Bromley         57.97           332336   2,205                  33,659   \n",
       "4   Camden          8.40           270029  12,035                  36,053   \n",
       "\n",
       "  N_employees  latitude  longitude  \n",
       "0     134,650   51.6252     0.1517  \n",
       "1      78,930   51.4549     0.1505  \n",
       "2     123,260   51.5588     0.2817  \n",
       "3     108,250   51.4039     0.0198  \n",
       "4     382,785   51.5290     0.1255  "
      ]
     },
     "execution_count": 3,
     "metadata": {},
     "output_type": "execute_result"
    }
   ],
   "source": [
    "df.head()"
   ]
  },
  {
   "cell_type": "markdown",
   "id": "c1355170",
   "metadata": {},
   "source": [
    "## Getting Venue Data with Forsquare API"
   ]
  },
  {
   "cell_type": "code",
   "execution_count": 4,
   "id": "f7713e3f",
   "metadata": {},
   "outputs": [],
   "source": [
    "CLIENT_ID = 'AIGPMW4KUAC351NMMXSGN4DPOTEXFTNBYSFV014YF3RE3FP5' # your Foursquare ID\n",
    "CLIENT_SECRET = 'CY4SAG4M24EIB1NKVLUABAC2RUNNF53R0CBMKWTS3VUR5A3Q' # your Foursquare Secret\n",
    "VERSION = '20220219'\n",
    "LIMIT = 200\n",
    "\n",
    "def getNearbyVenues(names, latitudes, longitudes, radius=2000,limit=200):\n",
    "\n",
    "    URL= \"https://api.foursquare.com/v3/places/nearby?ll={},{}&radius={}&limit=50&query=cafe\"\n",
    "    headers = {\n",
    "        \"Accept\": \"application/json\",\n",
    "        \"Authorization\": \"fsq3Kdw1wp8+nAIcoOufls8EEFWG1ZTn43UcY0LQuY+zK30=\"\n",
    "    }\n",
    "\n",
    "    df_list=[]\n",
    "    \n",
    "    for name, lat, lng in zip(names, latitudes, longitudes):\n",
    "        url = URL.format(lat, lng, radius, LIMIT)\n",
    "        results = requests.request(\"GET\", url, headers=headers).json()\n",
    "        for each_result in results['results']: # filter the result based on JSON identification\n",
    "            result={}\n",
    "            result['Borough']=name\n",
    "            result['Neighborhood Latitude']=lat\n",
    "            result['Neighborhood Longitude']=lng\n",
    "            result['Name']=each_result['name']\n",
    "            result['Venue Latitude']=each_result['geocodes']['main']['latitude']\n",
    "            result['Venue Longitude']=each_result['geocodes']['main']['longitude']\n",
    "\n",
    "\n",
    "            #result['Locality']=each_result['location']['locality']\n",
    "            result['Category_Names']=[each_name['name'] for each_name in each_result['categories']]\n",
    "\n",
    "\n",
    "            df_list.append(result.copy())\n",
    "    return pd.DataFrame(df_list) # return dataframe"
   ]
  },
  {
   "cell_type": "code",
   "execution_count": 5,
   "id": "e7b917cd",
   "metadata": {},
   "outputs": [],
   "source": [
    "\n",
    "# call the function\n",
    "df_result=getNearbyVenues(df['Borough'],df['latitude'],df['longitude'])\n",
    "\n"
   ]
  },
  {
   "cell_type": "markdown",
   "id": "a21242da",
   "metadata": {},
   "source": [
    "> Here we want to check if we get venues from all the London boroughs."
   ]
  },
  {
   "cell_type": "code",
   "execution_count": 6,
   "id": "dbecdcd1",
   "metadata": {},
   "outputs": [
    {
     "data": {
      "text/plain": [
       "29"
      ]
     },
     "execution_count": 6,
     "metadata": {},
     "output_type": "execute_result"
    }
   ],
   "source": [
    "df['Borough'].nunique()"
   ]
  },
  {
   "cell_type": "code",
   "execution_count": 7,
   "id": "350a4d3b",
   "metadata": {},
   "outputs": [
    {
     "data": {
      "text/plain": [
       "29"
      ]
     },
     "execution_count": 7,
     "metadata": {},
     "output_type": "execute_result"
    }
   ],
   "source": [
    "df_result['Borough'].nunique()"
   ]
  },
  {
   "cell_type": "markdown",
   "id": "3cc234cb",
   "metadata": {},
   "source": [
    "## Merge the dataframes"
   ]
  },
  {
   "cell_type": "code",
   "execution_count": 8,
   "id": "6bd84e8b",
   "metadata": {},
   "outputs": [],
   "source": [
    "# we will merge the dataframes relying on the Borough values\n",
    "df = df.merge(df_result,on='Borough')\n"
   ]
  },
  {
   "cell_type": "code",
   "execution_count": 9,
   "id": "57bbb73c",
   "metadata": {
    "scrolled": false
   },
   "outputs": [
    {
     "data": {
      "text/html": [
       "<div>\n",
       "<style scoped>\n",
       "    .dataframe tbody tr th:only-of-type {\n",
       "        vertical-align: middle;\n",
       "    }\n",
       "\n",
       "    .dataframe tbody tr th {\n",
       "        vertical-align: top;\n",
       "    }\n",
       "\n",
       "    .dataframe thead th {\n",
       "        text-align: right;\n",
       "    }\n",
       "</style>\n",
       "<table border=\"1\" class=\"dataframe\">\n",
       "  <thead>\n",
       "    <tr style=\"text-align: right;\">\n",
       "      <th></th>\n",
       "      <th>Borough</th>\n",
       "      <th>Area (sq mi)</th>\n",
       "      <th>Population_2019</th>\n",
       "      <th>Density</th>\n",
       "      <th>Median_Househols_Income</th>\n",
       "      <th>N_employees</th>\n",
       "      <th>latitude</th>\n",
       "      <th>longitude</th>\n",
       "      <th>Neighborhood Latitude</th>\n",
       "      <th>Neighborhood Longitude</th>\n",
       "      <th>Name</th>\n",
       "      <th>Venue Latitude</th>\n",
       "      <th>Venue Longitude</th>\n",
       "      <th>Category_Names</th>\n",
       "    </tr>\n",
       "  </thead>\n",
       "  <tbody>\n",
       "    <tr>\n",
       "      <th>0</th>\n",
       "      <td>Barnet</td>\n",
       "      <td>33.49</td>\n",
       "      <td>395896</td>\n",
       "      <td>4,520</td>\n",
       "      <td>34,163</td>\n",
       "      <td>134,650</td>\n",
       "      <td>51.6252</td>\n",
       "      <td>0.1517</td>\n",
       "      <td>51.6252</td>\n",
       "      <td>0.1517</td>\n",
       "      <td>Café Kitsuné</td>\n",
       "      <td>51.499131</td>\n",
       "      <td>-0.157185</td>\n",
       "      <td>[Coffee Shop, Restaurant]</td>\n",
       "    </tr>\n",
       "    <tr>\n",
       "      <th>1</th>\n",
       "      <td>Barnet</td>\n",
       "      <td>33.49</td>\n",
       "      <td>395896</td>\n",
       "      <td>4,520</td>\n",
       "      <td>34,163</td>\n",
       "      <td>134,650</td>\n",
       "      <td>51.6252</td>\n",
       "      <td>0.1517</td>\n",
       "      <td>51.6252</td>\n",
       "      <td>0.1517</td>\n",
       "      <td>Pavilion Cafe</td>\n",
       "      <td>51.533421</td>\n",
       "      <td>-0.042884</td>\n",
       "      <td>[Café, Restaurant]</td>\n",
       "    </tr>\n",
       "    <tr>\n",
       "      <th>2</th>\n",
       "      <td>Barnet</td>\n",
       "      <td>33.49</td>\n",
       "      <td>395896</td>\n",
       "      <td>4,520</td>\n",
       "      <td>34,163</td>\n",
       "      <td>134,650</td>\n",
       "      <td>51.6252</td>\n",
       "      <td>0.1517</td>\n",
       "      <td>51.6252</td>\n",
       "      <td>0.1517</td>\n",
       "      <td>Cafe Oto</td>\n",
       "      <td>51.546786</td>\n",
       "      <td>-0.074763</td>\n",
       "      <td>[Café, Coffee Shop, Japanese Restaurant]</td>\n",
       "    </tr>\n",
       "    <tr>\n",
       "      <th>3</th>\n",
       "      <td>Barnet</td>\n",
       "      <td>33.49</td>\n",
       "      <td>395896</td>\n",
       "      <td>4,520</td>\n",
       "      <td>34,163</td>\n",
       "      <td>134,650</td>\n",
       "      <td>51.6252</td>\n",
       "      <td>0.1517</td>\n",
       "      <td>51.6252</td>\n",
       "      <td>0.1517</td>\n",
       "      <td>French's Cafe</td>\n",
       "      <td>51.562863</td>\n",
       "      <td>0.220252</td>\n",
       "      <td>[Café, Restaurant]</td>\n",
       "    </tr>\n",
       "    <tr>\n",
       "      <th>4</th>\n",
       "      <td>Barnet</td>\n",
       "      <td>33.49</td>\n",
       "      <td>395896</td>\n",
       "      <td>4,520</td>\n",
       "      <td>34,163</td>\n",
       "      <td>134,650</td>\n",
       "      <td>51.6252</td>\n",
       "      <td>0.1517</td>\n",
       "      <td>51.6252</td>\n",
       "      <td>0.1517</td>\n",
       "      <td>Dada Café</td>\n",
       "      <td>51.697793</td>\n",
       "      <td>0.110575</td>\n",
       "      <td>[Dining and Drinking]</td>\n",
       "    </tr>\n",
       "  </tbody>\n",
       "</table>\n",
       "</div>"
      ],
      "text/plain": [
       "  Borough  Area (sq mi)  Population_2019 Density Median_Househols_Income  \\\n",
       "0  Barnet         33.49           395896   4,520                  34,163   \n",
       "1  Barnet         33.49           395896   4,520                  34,163   \n",
       "2  Barnet         33.49           395896   4,520                  34,163   \n",
       "3  Barnet         33.49           395896   4,520                  34,163   \n",
       "4  Barnet         33.49           395896   4,520                  34,163   \n",
       "\n",
       "  N_employees  latitude  longitude  Neighborhood Latitude  \\\n",
       "0     134,650   51.6252     0.1517                51.6252   \n",
       "1     134,650   51.6252     0.1517                51.6252   \n",
       "2     134,650   51.6252     0.1517                51.6252   \n",
       "3     134,650   51.6252     0.1517                51.6252   \n",
       "4     134,650   51.6252     0.1517                51.6252   \n",
       "\n",
       "   Neighborhood Longitude           Name  Venue Latitude  Venue Longitude  \\\n",
       "0                  0.1517   Café Kitsuné       51.499131        -0.157185   \n",
       "1                  0.1517  Pavilion Cafe       51.533421        -0.042884   \n",
       "2                  0.1517       Cafe Oto       51.546786        -0.074763   \n",
       "3                  0.1517  French's Cafe       51.562863         0.220252   \n",
       "4                  0.1517      Dada Café       51.697793         0.110575   \n",
       "\n",
       "                             Category_Names  \n",
       "0                 [Coffee Shop, Restaurant]  \n",
       "1                        [Café, Restaurant]  \n",
       "2  [Café, Coffee Shop, Japanese Restaurant]  \n",
       "3                        [Café, Restaurant]  \n",
       "4                     [Dining and Drinking]  "
      ]
     },
     "execution_count": 9,
     "metadata": {},
     "output_type": "execute_result"
    }
   ],
   "source": [
    "df.head()"
   ]
  },
  {
   "cell_type": "code",
   "execution_count": 13,
   "id": "c8c1c22f",
   "metadata": {},
   "outputs": [],
   "source": [
    "df.to_csv(\"Data/final_data.csv\", index = False)"
   ]
  },
  {
   "cell_type": "markdown",
   "id": "b1a9fcbf",
   "metadata": {},
   "source": [
    "## Visualising and Understanding the Data"
   ]
  },
  {
   "cell_type": "code",
   "execution_count": 14,
   "id": "8733c964",
   "metadata": {
    "scrolled": true
   },
   "outputs": [
    {
     "name": "stderr",
     "output_type": "stream",
     "text": [
      "/usr/local/lib/python3.9/site-packages/folium/folium.py:409: FutureWarning: The choropleth  method has been deprecated. Instead use the new Choropleth class, which has the same arguments. See the example notebook 'GeoJSON_and_choropleth' for how to do this.\n",
      "  warnings.warn(\n"
     ]
    },
    {
     "ename": "FileNotFoundError",
     "evalue": "[Errno 2] No such file or directory: 'london.json'",
     "output_type": "error",
     "traceback": [
      "\u001b[0;31m---------------------------------------------------------------------------\u001b[0m",
      "\u001b[0;31mFileNotFoundError\u001b[0m                         Traceback (most recent call last)",
      "\u001b[0;32m/var/folders/4y/2z5lm46x17939nvsvr8gwbqw0000gn/T/ipykernel_550/617028142.py\u001b[0m in \u001b[0;36m<module>\u001b[0;34m\u001b[0m\n\u001b[1;32m     14\u001b[0m \u001b[0;34m\u001b[0m\u001b[0m\n\u001b[1;32m     15\u001b[0m \u001b[0;31m# Create a Choropleth map for each Borough and respective population in 2010\u001b[0m\u001b[0;34m\u001b[0m\u001b[0;34m\u001b[0m\u001b[0m\n\u001b[0;32m---> 16\u001b[0;31m london_map.choropleth(\n\u001b[0m\u001b[1;32m     17\u001b[0m     \u001b[0mgeo_data\u001b[0m \u001b[0;34m=\u001b[0m \u001b[0mboroughs_json\u001b[0m\u001b[0;34m,\u001b[0m\u001b[0;34m\u001b[0m\u001b[0;34m\u001b[0m\u001b[0m\n\u001b[1;32m     18\u001b[0m     \u001b[0mdata\u001b[0m \u001b[0;34m=\u001b[0m  \u001b[0mdf\u001b[0m\u001b[0;34m,\u001b[0m\u001b[0;34m\u001b[0m\u001b[0;34m\u001b[0m\u001b[0m\n",
      "\u001b[0;32m/usr/local/lib/python3.9/site-packages/folium/folium.py\u001b[0m in \u001b[0;36mchoropleth\u001b[0;34m(self, *args, **kwargs)\u001b[0m\n\u001b[1;32m    414\u001b[0m         )\n\u001b[1;32m    415\u001b[0m         \u001b[0;32mfrom\u001b[0m \u001b[0mfolium\u001b[0m\u001b[0;34m.\u001b[0m\u001b[0mfeatures\u001b[0m \u001b[0;32mimport\u001b[0m \u001b[0mChoropleth\u001b[0m\u001b[0;34m\u001b[0m\u001b[0;34m\u001b[0m\u001b[0m\n\u001b[0;32m--> 416\u001b[0;31m         \u001b[0mself\u001b[0m\u001b[0;34m.\u001b[0m\u001b[0madd_child\u001b[0m\u001b[0;34m(\u001b[0m\u001b[0mChoropleth\u001b[0m\u001b[0;34m(\u001b[0m\u001b[0;34m*\u001b[0m\u001b[0margs\u001b[0m\u001b[0;34m,\u001b[0m \u001b[0;34m**\u001b[0m\u001b[0mkwargs\u001b[0m\u001b[0;34m)\u001b[0m\u001b[0;34m)\u001b[0m\u001b[0;34m\u001b[0m\u001b[0;34m\u001b[0m\u001b[0m\n\u001b[0m\u001b[1;32m    417\u001b[0m \u001b[0;34m\u001b[0m\u001b[0m\n\u001b[1;32m    418\u001b[0m     \u001b[0;32mdef\u001b[0m \u001b[0mkeep_in_front\u001b[0m\u001b[0;34m(\u001b[0m\u001b[0mself\u001b[0m\u001b[0;34m,\u001b[0m \u001b[0;34m*\u001b[0m\u001b[0margs\u001b[0m\u001b[0;34m)\u001b[0m\u001b[0;34m:\u001b[0m\u001b[0;34m\u001b[0m\u001b[0;34m\u001b[0m\u001b[0m\n",
      "\u001b[0;32m/usr/local/lib/python3.9/site-packages/folium/features.py\u001b[0m in \u001b[0;36m__init__\u001b[0;34m(self, geo_data, data, columns, key_on, bins, fill_color, nan_fill_color, fill_opacity, nan_fill_opacity, line_color, line_weight, line_opacity, name, legend_name, overlay, control, show, topojson, smooth_factor, highlight, **kwargs)\u001b[0m\n\u001b[1;32m   1287\u001b[0m                 smooth_factor=smooth_factor)\n\u001b[1;32m   1288\u001b[0m         \u001b[0;32melse\u001b[0m\u001b[0;34m:\u001b[0m\u001b[0;34m\u001b[0m\u001b[0;34m\u001b[0m\u001b[0m\n\u001b[0;32m-> 1289\u001b[0;31m             self.geojson = GeoJson(\n\u001b[0m\u001b[1;32m   1290\u001b[0m                 \u001b[0mgeo_data\u001b[0m\u001b[0;34m,\u001b[0m\u001b[0;34m\u001b[0m\u001b[0;34m\u001b[0m\u001b[0m\n\u001b[1;32m   1291\u001b[0m                 \u001b[0mstyle_function\u001b[0m\u001b[0;34m=\u001b[0m\u001b[0mstyle_function\u001b[0m\u001b[0;34m,\u001b[0m\u001b[0;34m\u001b[0m\u001b[0;34m\u001b[0m\u001b[0m\n",
      "\u001b[0;32m/usr/local/lib/python3.9/site-packages/folium/features.py\u001b[0m in \u001b[0;36m__init__\u001b[0;34m(self, data, style_function, highlight_function, name, overlay, control, show, smooth_factor, tooltip, embed, popup, zoom_on_click, marker)\u001b[0m\n\u001b[1;32m    497\u001b[0m         \u001b[0mself\u001b[0m\u001b[0;34m.\u001b[0m\u001b[0mmarker\u001b[0m \u001b[0;34m=\u001b[0m \u001b[0mmarker\u001b[0m\u001b[0;34m\u001b[0m\u001b[0;34m\u001b[0m\u001b[0m\n\u001b[1;32m    498\u001b[0m \u001b[0;34m\u001b[0m\u001b[0m\n\u001b[0;32m--> 499\u001b[0;31m         \u001b[0mself\u001b[0m\u001b[0;34m.\u001b[0m\u001b[0mdata\u001b[0m \u001b[0;34m=\u001b[0m \u001b[0mself\u001b[0m\u001b[0;34m.\u001b[0m\u001b[0mprocess_data\u001b[0m\u001b[0;34m(\u001b[0m\u001b[0mdata\u001b[0m\u001b[0;34m)\u001b[0m\u001b[0;34m\u001b[0m\u001b[0;34m\u001b[0m\u001b[0m\n\u001b[0m\u001b[1;32m    500\u001b[0m \u001b[0;34m\u001b[0m\u001b[0m\n\u001b[1;32m    501\u001b[0m         \u001b[0;32mif\u001b[0m \u001b[0mself\u001b[0m\u001b[0;34m.\u001b[0m\u001b[0mstyle\u001b[0m \u001b[0;32mor\u001b[0m \u001b[0mself\u001b[0m\u001b[0;34m.\u001b[0m\u001b[0mhighlight\u001b[0m\u001b[0;34m:\u001b[0m\u001b[0;34m\u001b[0m\u001b[0;34m\u001b[0m\u001b[0m\n",
      "\u001b[0;32m/usr/local/lib/python3.9/site-packages/folium/features.py\u001b[0m in \u001b[0;36mprocess_data\u001b[0;34m(self, data)\u001b[0m\n\u001b[1;32m    534\u001b[0m                 \u001b[0;32mif\u001b[0m \u001b[0;32mnot\u001b[0m \u001b[0mself\u001b[0m\u001b[0;34m.\u001b[0m\u001b[0membed\u001b[0m\u001b[0;34m:\u001b[0m\u001b[0;34m\u001b[0m\u001b[0;34m\u001b[0m\u001b[0m\n\u001b[1;32m    535\u001b[0m                     \u001b[0mself\u001b[0m\u001b[0;34m.\u001b[0m\u001b[0membed_link\u001b[0m \u001b[0;34m=\u001b[0m \u001b[0mdata\u001b[0m\u001b[0;34m\u001b[0m\u001b[0;34m\u001b[0m\u001b[0m\n\u001b[0;32m--> 536\u001b[0;31m                 \u001b[0;32mwith\u001b[0m \u001b[0mopen\u001b[0m\u001b[0;34m(\u001b[0m\u001b[0mdata\u001b[0m\u001b[0;34m)\u001b[0m \u001b[0;32mas\u001b[0m \u001b[0mf\u001b[0m\u001b[0;34m:\u001b[0m\u001b[0;34m\u001b[0m\u001b[0;34m\u001b[0m\u001b[0m\n\u001b[0m\u001b[1;32m    537\u001b[0m                     \u001b[0;32mreturn\u001b[0m \u001b[0mjson\u001b[0m\u001b[0;34m.\u001b[0m\u001b[0mloads\u001b[0m\u001b[0;34m(\u001b[0m\u001b[0mf\u001b[0m\u001b[0;34m.\u001b[0m\u001b[0mread\u001b[0m\u001b[0;34m(\u001b[0m\u001b[0;34m)\u001b[0m\u001b[0;34m)\u001b[0m\u001b[0;34m\u001b[0m\u001b[0;34m\u001b[0m\u001b[0m\n\u001b[1;32m    538\u001b[0m         \u001b[0;32melif\u001b[0m \u001b[0mhasattr\u001b[0m\u001b[0;34m(\u001b[0m\u001b[0mdata\u001b[0m\u001b[0;34m,\u001b[0m \u001b[0;34m'__geo_interface__'\u001b[0m\u001b[0;34m)\u001b[0m\u001b[0;34m:\u001b[0m\u001b[0;34m\u001b[0m\u001b[0;34m\u001b[0m\u001b[0m\n",
      "\u001b[0;31mFileNotFoundError\u001b[0m: [Errno 2] No such file or directory: 'london.json'"
     ]
    }
   ],
   "source": [
    "from geopy.geocoders import Nominatim\n",
    "nominatim_service = Nominatim(user_agent='sarah.a.alharbi@gmail.com')\n",
    "\n",
    "\n",
    "# Read the GeoJSON file  \n",
    "boroughs_json= r'london.json'\n",
    "\n",
    "# Create a Map for London\n",
    "\n",
    "\n",
    "london_coordinates = nominatim_service.geocode('London, UK')\n",
    "london_map = folium.Map(location = [london_coordinates.latitude, london_coordinates.longitude], \n",
    "                        zoom_start=10)\n",
    "\n",
    "# Create a Choropleth map for each Borough and respective population in 2010\n",
    "london_map.choropleth(\n",
    "    geo_data = boroughs_json,\n",
    "    data =  df,\n",
    "    columns = ['Borough','Population_2019'],\n",
    "    key_on = 'feature.properties.name',\n",
    "    fill_color=\"Blues\",\n",
    "    fill_opacity = 0.8,\n",
    "    line_opacity = 0.8,\n",
    "    legend_name = 'London Boroughs Population')\n",
    "\n",
    "# In the below part, we create an overlay to add Popups to the map that displays \n",
    "# Borough name and Total Population\n",
    "\n",
    "# Open Geo\n",
    "# View the map\n",
    "london_map\n",
    "\n"
   ]
  },
  {
   "cell_type": "code",
   "execution_count": 15,
   "id": "43415704",
   "metadata": {},
   "outputs": [
    {
     "data": {
      "text/plain": [
       "'london.json'"
      ]
     },
     "execution_count": 15,
     "metadata": {},
     "output_type": "execute_result"
    }
   ],
   "source": [
    " r'london.json'"
   ]
  },
  {
   "cell_type": "code",
   "execution_count": 16,
   "id": "4a8fee7a",
   "metadata": {
    "scrolled": true
   },
   "outputs": [
    {
     "ename": "FileNotFoundError",
     "evalue": "[Errno 2] No such file or directory: 'london.json'",
     "output_type": "error",
     "traceback": [
      "\u001b[0;31m---------------------------------------------------------------------------\u001b[0m",
      "\u001b[0;31mFileNotFoundError\u001b[0m                         Traceback (most recent call last)",
      "\u001b[0;32m/var/folders/4y/2z5lm46x17939nvsvr8gwbqw0000gn/T/ipykernel_550/3076621050.py\u001b[0m in \u001b[0;36m<module>\u001b[0;34m\u001b[0m\n\u001b[1;32m      8\u001b[0m \u001b[0;34m\u001b[0m\u001b[0m\n\u001b[1;32m      9\u001b[0m \u001b[0;31m# Create a Choropleth map for each Borough and respective population in 2010\u001b[0m\u001b[0;34m\u001b[0m\u001b[0;34m\u001b[0m\u001b[0m\n\u001b[0;32m---> 10\u001b[0;31m map1 = folium.Choropleth(\n\u001b[0m\u001b[1;32m     11\u001b[0m     \u001b[0mgeo_data\u001b[0m \u001b[0;34m=\u001b[0m \u001b[0mboroughs_json\u001b[0m\u001b[0;34m,\u001b[0m\u001b[0;34m\u001b[0m\u001b[0;34m\u001b[0m\u001b[0m\n\u001b[1;32m     12\u001b[0m     \u001b[0mdata\u001b[0m \u001b[0;34m=\u001b[0m  \u001b[0mdf\u001b[0m\u001b[0;34m,\u001b[0m\u001b[0;34m\u001b[0m\u001b[0;34m\u001b[0m\u001b[0m\n",
      "\u001b[0;32m/usr/local/lib/python3.9/site-packages/folium/features.py\u001b[0m in \u001b[0;36m__init__\u001b[0;34m(self, geo_data, data, columns, key_on, bins, fill_color, nan_fill_color, fill_opacity, nan_fill_opacity, line_color, line_weight, line_opacity, name, legend_name, overlay, control, show, topojson, smooth_factor, highlight, **kwargs)\u001b[0m\n\u001b[1;32m   1287\u001b[0m                 smooth_factor=smooth_factor)\n\u001b[1;32m   1288\u001b[0m         \u001b[0;32melse\u001b[0m\u001b[0;34m:\u001b[0m\u001b[0;34m\u001b[0m\u001b[0;34m\u001b[0m\u001b[0m\n\u001b[0;32m-> 1289\u001b[0;31m             self.geojson = GeoJson(\n\u001b[0m\u001b[1;32m   1290\u001b[0m                 \u001b[0mgeo_data\u001b[0m\u001b[0;34m,\u001b[0m\u001b[0;34m\u001b[0m\u001b[0;34m\u001b[0m\u001b[0m\n\u001b[1;32m   1291\u001b[0m                 \u001b[0mstyle_function\u001b[0m\u001b[0;34m=\u001b[0m\u001b[0mstyle_function\u001b[0m\u001b[0;34m,\u001b[0m\u001b[0;34m\u001b[0m\u001b[0;34m\u001b[0m\u001b[0m\n",
      "\u001b[0;32m/usr/local/lib/python3.9/site-packages/folium/features.py\u001b[0m in \u001b[0;36m__init__\u001b[0;34m(self, data, style_function, highlight_function, name, overlay, control, show, smooth_factor, tooltip, embed, popup, zoom_on_click, marker)\u001b[0m\n\u001b[1;32m    497\u001b[0m         \u001b[0mself\u001b[0m\u001b[0;34m.\u001b[0m\u001b[0mmarker\u001b[0m \u001b[0;34m=\u001b[0m \u001b[0mmarker\u001b[0m\u001b[0;34m\u001b[0m\u001b[0;34m\u001b[0m\u001b[0m\n\u001b[1;32m    498\u001b[0m \u001b[0;34m\u001b[0m\u001b[0m\n\u001b[0;32m--> 499\u001b[0;31m         \u001b[0mself\u001b[0m\u001b[0;34m.\u001b[0m\u001b[0mdata\u001b[0m \u001b[0;34m=\u001b[0m \u001b[0mself\u001b[0m\u001b[0;34m.\u001b[0m\u001b[0mprocess_data\u001b[0m\u001b[0;34m(\u001b[0m\u001b[0mdata\u001b[0m\u001b[0;34m)\u001b[0m\u001b[0;34m\u001b[0m\u001b[0;34m\u001b[0m\u001b[0m\n\u001b[0m\u001b[1;32m    500\u001b[0m \u001b[0;34m\u001b[0m\u001b[0m\n\u001b[1;32m    501\u001b[0m         \u001b[0;32mif\u001b[0m \u001b[0mself\u001b[0m\u001b[0;34m.\u001b[0m\u001b[0mstyle\u001b[0m \u001b[0;32mor\u001b[0m \u001b[0mself\u001b[0m\u001b[0;34m.\u001b[0m\u001b[0mhighlight\u001b[0m\u001b[0;34m:\u001b[0m\u001b[0;34m\u001b[0m\u001b[0;34m\u001b[0m\u001b[0m\n",
      "\u001b[0;32m/usr/local/lib/python3.9/site-packages/folium/features.py\u001b[0m in \u001b[0;36mprocess_data\u001b[0;34m(self, data)\u001b[0m\n\u001b[1;32m    534\u001b[0m                 \u001b[0;32mif\u001b[0m \u001b[0;32mnot\u001b[0m \u001b[0mself\u001b[0m\u001b[0;34m.\u001b[0m\u001b[0membed\u001b[0m\u001b[0;34m:\u001b[0m\u001b[0;34m\u001b[0m\u001b[0;34m\u001b[0m\u001b[0m\n\u001b[1;32m    535\u001b[0m                     \u001b[0mself\u001b[0m\u001b[0;34m.\u001b[0m\u001b[0membed_link\u001b[0m \u001b[0;34m=\u001b[0m \u001b[0mdata\u001b[0m\u001b[0;34m\u001b[0m\u001b[0;34m\u001b[0m\u001b[0m\n\u001b[0;32m--> 536\u001b[0;31m                 \u001b[0;32mwith\u001b[0m \u001b[0mopen\u001b[0m\u001b[0;34m(\u001b[0m\u001b[0mdata\u001b[0m\u001b[0;34m)\u001b[0m \u001b[0;32mas\u001b[0m \u001b[0mf\u001b[0m\u001b[0;34m:\u001b[0m\u001b[0;34m\u001b[0m\u001b[0;34m\u001b[0m\u001b[0m\n\u001b[0m\u001b[1;32m    537\u001b[0m                     \u001b[0;32mreturn\u001b[0m \u001b[0mjson\u001b[0m\u001b[0;34m.\u001b[0m\u001b[0mloads\u001b[0m\u001b[0;34m(\u001b[0m\u001b[0mf\u001b[0m\u001b[0;34m.\u001b[0m\u001b[0mread\u001b[0m\u001b[0;34m(\u001b[0m\u001b[0;34m)\u001b[0m\u001b[0;34m)\u001b[0m\u001b[0;34m\u001b[0m\u001b[0;34m\u001b[0m\u001b[0m\n\u001b[1;32m    538\u001b[0m         \u001b[0;32melif\u001b[0m \u001b[0mhasattr\u001b[0m\u001b[0;34m(\u001b[0m\u001b[0mdata\u001b[0m\u001b[0;34m,\u001b[0m \u001b[0;34m'__geo_interface__'\u001b[0m\u001b[0;34m)\u001b[0m\u001b[0;34m:\u001b[0m\u001b[0;34m\u001b[0m\u001b[0;34m\u001b[0m\u001b[0m\n",
      "\u001b[0;31mFileNotFoundError\u001b[0m: [Errno 2] No such file or directory: 'london.json'"
     ]
    }
   ],
   "source": [
    "nominatim_service = Nominatim(user_agent='sarah.a.alharbi@gmail.com')\n",
    "# Create a Map for London\n",
    "\n",
    "\n",
    "london_coordinates = nominatim_service.geocode('London, UK')\n",
    "london_map = folium.Map(location = [london_coordinates.latitude, london_coordinates.longitude], \n",
    "                        zoom_start=10)\n",
    "\n",
    "# Create a Choropleth map for each Borough and respective population in 2010\n",
    "map1 = folium.Choropleth(\n",
    "    geo_data = boroughs_json,\n",
    "    data =  df,\n",
    "    columns = ['Borough','Population_2019'],\n",
    "    key_on = 'feature.properties.name',\n",
    "    fill_color=\"YlGnBu\",\n",
    "    fill_opacity = 0.7,\n",
    "    line_opacity = 0.8,\n",
    "    reset=True,\n",
    "    highlight=True,\n",
    "    legend_name = 'London Boroughs Population').add_to(london_map)\n",
    "\n",
    "# In the below part, we create an overlay to add Popups to the map that displays \n",
    "# Borough name and Total Population\n",
    "\n",
    "# Open Geo\n",
    "# View the map\n",
    "\n",
    "\n",
    "map1.geojson.add_child(\n",
    "    folium.features.GeoJsonTooltip(fields= ['name','pop_2001'],\n",
    "                                   aliases=['Borough:', 'Population_2019:'],\n",
    "                                   labels=True,\n",
    "                                   localize=True,\n",
    "                                   sticky=False,\n",
    "                                   style=\"\"\"\n",
    "                                   background-color: #F0EFEF;\n",
    "                                   border: 2px solid black;\n",
    "                                   border-radius: 3px;\n",
    "                                   box-shadow: 3px;\n",
    "                                   \"\"\",)\n",
    ")\n",
    "\n",
    "london_map\n",
    "\n"
   ]
  },
  {
   "cell_type": "markdown",
   "id": "1ce0d0f9",
   "metadata": {},
   "source": [
    "### Issues:\n",
    "\n",
    "- The population values in the geojson file is outdated since 2001, while in the scarpped data I've the popualtion values of 2019.\n",
    "\n",
    "- The City of London is a city, ceremonial county and local government district that contains the historic centre and the primary central business district (CBD) of London."
   ]
  },
  {
   "cell_type": "code",
   "execution_count": null,
   "id": "b8cf2459",
   "metadata": {
    "scrolled": false
   },
   "outputs": [],
   "source": [
    "UK = json.load(open(\"london.json\", \"r\"))\n"
   ]
  },
  {
   "cell_type": "markdown",
   "id": "1360328e",
   "metadata": {},
   "source": [
    "## Bar chart "
   ]
  },
  {
   "cell_type": "code",
   "execution_count": null,
   "id": "d6385c87",
   "metadata": {},
   "outputs": [],
   "source": [
    "# Create a Bar chart to plot each Borough's population\n",
    "\n",
    "bar1 = london_boroughs.sort_values(by='Population_2019', ascending=False).plot(kind='bar', \n",
    "                                                         x='Borough', y='Population_2019', figsize=(15, 3));\n",
    "# Title and axis labels\n",
    "bar1.set_title(\"Borough Population in London (2019)\");\n",
    "bar1.set_xlabel(\"Borough\");\n",
    "bar1.set_ylabel(\"Total Population in 2019\");\n",
    "\n"
   ]
  },
  {
   "cell_type": "code",
   "execution_count": null,
   "id": "04ac46e6",
   "metadata": {},
   "outputs": [],
   "source": [
    "# create bar chart of borough and number of cafes\n",
    "bar2 = df.Borough.value_counts(ascending=False).plot(kind = 'bar',figsize=(15, 3), color='darkblue', rot= 25, linewidth = 4, edgecolor='white')                                   \n",
    "# Title and axis labels\n",
    "bar2.set_title(\"Borough Population in London (2019)\");\n",
    "bar2.set_xlabel(\"Borough\" );\n",
    "bar2.set_ylabel(\"Total Population in 2019\");\n",
    "#counts.sort_values(ascending=False).plot(kind='bar', color='darkblue')\n",
    "#plt.xticks()"
   ]
  },
  {
   "cell_type": "code",
   "execution_count": null,
   "id": "2c92b063",
   "metadata": {},
   "outputs": [],
   "source": [
    "df.Borough.value_counts()"
   ]
  },
  {
   "cell_type": "code",
   "execution_count": null,
   "id": "3b3d5651",
   "metadata": {},
   "outputs": [],
   "source": [
    "df.Category_Names.value_counts() \n",
    "\n",
    "# some of the cafe have different categories - encoding  "
   ]
  },
  {
   "cell_type": "code",
   "execution_count": null,
   "id": "d711c3b5",
   "metadata": {},
   "outputs": [],
   "source": []
  },
  {
   "cell_type": "markdown",
   "id": "0b98907d",
   "metadata": {},
   "source": [
    "# Haven't Finished it yet\n",
    "\n",
    "\n",
    "\n",
    "\n",
    "- Boroughs that we should consider, based on population count:\n",
    "\n",
    "- Boroughs that we should consider, based on population density:\n",
    "\n",
    "\n",
    "## Feature need to be added:\n",
    "- Density population/Area\n",
    "- create a list for Competitors  \n",
    "\n",
    "## Want to achieve \n",
    "\n",
    "-  Create a Dataframe with top 5 common cafe types for each neighbourhood \"tea room, with a restaurant, so on.. \"\n",
    "- Clustering Neighbourhoods\n",
    "\n",
    "We will use KMeans algorithm in order to cluster similar London neighbourhoods. Then, explore how many competitors by category. \n",
    "\n",
    "Recommendation each boroughs with the category \n",
    "\n"
   ]
  },
  {
   "cell_type": "code",
   "execution_count": null,
   "id": "ffd23ecc",
   "metadata": {},
   "outputs": [],
   "source": [
    "df['Borough'] = df['Borough'].str.strip()\n"
   ]
  },
  {
   "cell_type": "code",
   "execution_count": null,
   "id": "a801518f",
   "metadata": {},
   "outputs": [],
   "source": [
    "df[\"id\"] = df[\"Borough\"].apply(lambda x: state_id_map[x])\n"
   ]
  },
  {
   "cell_type": "code",
   "execution_count": null,
   "id": "9f3670ba",
   "metadata": {},
   "outputs": [],
   "source": [
    "df.Borough = df.Borough.astype('string')\n"
   ]
  },
  {
   "cell_type": "code",
   "execution_count": null,
   "id": "0748aba7",
   "metadata": {},
   "outputs": [],
   "source": [
    "state_id_map = {}\n",
    "for feature in UK[\"name\"]:\n",
    "    feature[\"id\"] = feature[\"properties\"][\"state_code\"]\n",
    "    state_id_map[feature[\"properties\"][\"st_nm\"]] = feature[\"id\"]\n",
    "\n",
    "\n"
   ]
  },
  {
   "cell_type": "code",
   "execution_count": null,
   "id": "3a707f40",
   "metadata": {},
   "outputs": [],
   "source": [
    "fig = px.choropleth(\n",
    "    df,\n",
    "    locations=\"id\",\n",
    "    geojson= UK,\n",
    "    color=\"Population_scale\",\n",
    "    hover_name=\"Borough\",\n",
    "    hover_data=[\"Population_scale\"],\n",
    "    title=\"London Population Density\",\n",
    ")\n",
    "fig.update_geos(fitbounds=\"locations\", visible=False)\n",
    "fig.show()"
   ]
  },
  {
   "cell_type": "code",
   "execution_count": null,
   "id": "2dc079a6",
   "metadata": {},
   "outputs": [],
   "source": [
    "df.dtypes"
   ]
  },
  {
   "cell_type": "code",
   "execution_count": null,
   "id": "57859082",
   "metadata": {},
   "outputs": [],
   "source": []
  }
 ],
 "metadata": {
  "kernelspec": {
   "display_name": "Python 3 (ipykernel)",
   "language": "python",
   "name": "python3"
  },
  "language_info": {
   "codemirror_mode": {
    "name": "ipython",
    "version": 3
   },
   "file_extension": ".py",
   "mimetype": "text/x-python",
   "name": "python",
   "nbconvert_exporter": "python",
   "pygments_lexer": "ipython3",
   "version": "3.9.9"
  },
  "toc": {
   "base_numbering": 1,
   "nav_menu": {},
   "number_sections": true,
   "sideBar": true,
   "skip_h1_title": false,
   "title_cell": "Table of Contents",
   "title_sidebar": "Contents",
   "toc_cell": false,
   "toc_position": {},
   "toc_section_display": true,
   "toc_window_display": false
  },
  "varInspector": {
   "cols": {
    "lenName": 16,
    "lenType": 16,
    "lenVar": 40
   },
   "kernels_config": {
    "python": {
     "delete_cmd_postfix": "",
     "delete_cmd_prefix": "del ",
     "library": "var_list.py",
     "varRefreshCmd": "print(var_dic_list())"
    },
    "r": {
     "delete_cmd_postfix": ") ",
     "delete_cmd_prefix": "rm(",
     "library": "var_list.r",
     "varRefreshCmd": "cat(var_dic_list()) "
    }
   },
   "types_to_exclude": [
    "module",
    "function",
    "builtin_function_or_method",
    "instance",
    "_Feature"
   ],
   "window_display": false
  }
 },
 "nbformat": 4,
 "nbformat_minor": 5
}
