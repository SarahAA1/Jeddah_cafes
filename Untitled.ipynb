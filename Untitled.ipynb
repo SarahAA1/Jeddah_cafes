{
 "cells": [
  {
   "cell_type": "markdown",
   "id": "774fa5b8",
   "metadata": {},
   "source": [
    "# Exploaity Data Analysis - EDA"
   ]
  },
  {
   "cell_type": "markdown",
   "id": "8e826e1d",
   "metadata": {},
   "source": [
    "## Import libraries"
   ]
  },
  {
   "cell_type": "code",
   "execution_count": 3,
   "id": "f25a9d0d",
   "metadata": {},
   "outputs": [],
   "source": [
    "import pandas as pd \n"
   ]
  },
  {
   "cell_type": "markdown",
   "id": "6d403103",
   "metadata": {},
   "source": [
    "## Load data"
   ]
  },
  {
   "cell_type": "code",
   "execution_count": 6,
   "id": "792552ad",
   "metadata": {},
   "outputs": [],
   "source": [
    "df = pd.read_csv('Data/clean_london_data.csv')"
   ]
  },
  {
   "cell_type": "code",
   "execution_count": 7,
   "id": "3e5c9674",
   "metadata": {},
   "outputs": [
    {
     "data": {
      "text/html": [
       "<div>\n",
       "<style scoped>\n",
       "    .dataframe tbody tr th:only-of-type {\n",
       "        vertical-align: middle;\n",
       "    }\n",
       "\n",
       "    .dataframe tbody tr th {\n",
       "        vertical-align: top;\n",
       "    }\n",
       "\n",
       "    .dataframe thead th {\n",
       "        text-align: right;\n",
       "    }\n",
       "</style>\n",
       "<table border=\"1\" class=\"dataframe\">\n",
       "  <thead>\n",
       "    <tr style=\"text-align: right;\">\n",
       "      <th></th>\n",
       "      <th>Borough</th>\n",
       "      <th>Area (sq mi)</th>\n",
       "      <th>Population_2019</th>\n",
       "      <th>Co-ordinates</th>\n",
       "      <th>Density</th>\n",
       "      <th>Median_Househols_Income</th>\n",
       "      <th>N_employees</th>\n",
       "      <th>DMS</th>\n",
       "      <th>DDM</th>\n",
       "      <th>latitude</th>\n",
       "      <th>longitude</th>\n",
       "    </tr>\n",
       "  </thead>\n",
       "  <tbody>\n",
       "    <tr>\n",
       "      <th>0</th>\n",
       "      <td>Barnet</td>\n",
       "      <td>33.49</td>\n",
       "      <td>395896</td>\n",
       "      <td>51°37′31″N 0°09′06″W﻿ / ﻿51.6252°N 0.1517°W</td>\n",
       "      <td>4,520</td>\n",
       "      <td>34,163</td>\n",
       "      <td>134,650</td>\n",
       "      <td>51°33′39″N 0°09′21″E</td>\n",
       "      <td>51.5607N 0.1557E</td>\n",
       "      <td>51.5607</td>\n",
       "      <td>0.1557</td>\n",
       "    </tr>\n",
       "    <tr>\n",
       "      <th>1</th>\n",
       "      <td>Bexley</td>\n",
       "      <td>23.38</td>\n",
       "      <td>248287</td>\n",
       "      <td>51°27′18″N 0°09′02″E﻿ / ﻿51.4549°N 0.1505°E</td>\n",
       "      <td>4,082</td>\n",
       "      <td>29,192</td>\n",
       "      <td>78,930</td>\n",
       "      <td>51°27′18″N 0°09′02″E﻿</td>\n",
       "      <td>﻿51.4549N 0.1505E</td>\n",
       "      <td>51.4549</td>\n",
       "      <td>0.1505</td>\n",
       "    </tr>\n",
       "    <tr>\n",
       "      <th>2</th>\n",
       "      <td>Brent</td>\n",
       "      <td>16.70</td>\n",
       "      <td>329771</td>\n",
       "      <td>51°33′32″N 0°16′54″W﻿ / ﻿51.5588°N 0.2817°W</td>\n",
       "      <td>7,652</td>\n",
       "      <td>28,847</td>\n",
       "      <td>123,260</td>\n",
       "      <td>51°33′32″N 0°16′54″W﻿</td>\n",
       "      <td>﻿51.5588N 0.2817W</td>\n",
       "      <td>51.5588</td>\n",
       "      <td>0.2817</td>\n",
       "    </tr>\n",
       "    <tr>\n",
       "      <th>3</th>\n",
       "      <td>Bromley</td>\n",
       "      <td>57.97</td>\n",
       "      <td>332336</td>\n",
       "      <td>51°24′14″N 0°01′11″E﻿ / ﻿51.4039°N 0.0198°E</td>\n",
       "      <td>2,205</td>\n",
       "      <td>33,659</td>\n",
       "      <td>108,250</td>\n",
       "      <td>51°24′14″N 0°01′11″E﻿</td>\n",
       "      <td>﻿51.4039N 0.0198E</td>\n",
       "      <td>51.4039</td>\n",
       "      <td>0.0198</td>\n",
       "    </tr>\n",
       "    <tr>\n",
       "      <th>4</th>\n",
       "      <td>Camden</td>\n",
       "      <td>8.40</td>\n",
       "      <td>270029</td>\n",
       "      <td>51°31′44″N 0°07′32″W﻿ / ﻿51.5290°N 0.1255°W</td>\n",
       "      <td>12,035</td>\n",
       "      <td>36,053</td>\n",
       "      <td>382,785</td>\n",
       "      <td>51°31′44″N 0°07′32″W﻿</td>\n",
       "      <td>﻿51.5290N 0.1255W</td>\n",
       "      <td>51.5290</td>\n",
       "      <td>0.1255</td>\n",
       "    </tr>\n",
       "  </tbody>\n",
       "</table>\n",
       "</div>"
      ],
      "text/plain": [
       "   Borough  Area (sq mi)  Population_2019  \\\n",
       "0   Barnet         33.49           395896   \n",
       "1   Bexley         23.38           248287   \n",
       "2    Brent         16.70           329771   \n",
       "3  Bromley         57.97           332336   \n",
       "4   Camden          8.40           270029   \n",
       "\n",
       "                                  Co-ordinates Density  \\\n",
       "0  51°37′31″N 0°09′06″W﻿ / ﻿51.6252°N 0.1517°W   4,520   \n",
       "1  51°27′18″N 0°09′02″E﻿ / ﻿51.4549°N 0.1505°E   4,082   \n",
       "2  51°33′32″N 0°16′54″W﻿ / ﻿51.5588°N 0.2817°W   7,652   \n",
       "3  51°24′14″N 0°01′11″E﻿ / ﻿51.4039°N 0.0198°E   2,205   \n",
       "4  51°31′44″N 0°07′32″W﻿ / ﻿51.5290°N 0.1255°W  12,035   \n",
       "\n",
       "  Median_Househols_Income N_employees                     DMS  \\\n",
       "0                  34,163     134,650   51°33′39″N 0°09′21″E    \n",
       "1                  29,192      78,930  51°27′18″N 0°09′02″E﻿    \n",
       "2                  28,847     123,260  51°33′32″N 0°16′54″W﻿    \n",
       "3                  33,659     108,250  51°24′14″N 0°01′11″E﻿    \n",
       "4                  36,053     382,785  51°31′44″N 0°07′32″W﻿    \n",
       "\n",
       "                  DDM  latitude  longitude  \n",
       "0    51.5607N 0.1557E   51.5607     0.1557  \n",
       "1   ﻿51.4549N 0.1505E   51.4549     0.1505  \n",
       "2   ﻿51.5588N 0.2817W   51.5588     0.2817  \n",
       "3   ﻿51.4039N 0.0198E   51.4039     0.0198  \n",
       "4   ﻿51.5290N 0.1255W   51.5290     0.1255  "
      ]
     },
     "execution_count": 7,
     "metadata": {},
     "output_type": "execute_result"
    }
   ],
   "source": [
    "df.head()"
   ]
  },
  {
   "cell_type": "code",
   "execution_count": null,
   "id": "7763d2ee",
   "metadata": {},
   "outputs": [],
   "source": []
  },
  {
   "cell_type": "markdown",
   "id": "69be9499",
   "metadata": {},
   "source": [
    "## Check for null values"
   ]
  },
  {
   "cell_type": "code",
   "execution_count": null,
   "id": "132410a1",
   "metadata": {},
   "outputs": [],
   "source": [
    "df_clean.isna().sum()\n"
   ]
  },
  {
   "cell_type": "code",
   "execution_count": null,
   "id": "a96a10cf",
   "metadata": {},
   "outputs": [],
   "source": []
  }
 ],
 "metadata": {
  "kernelspec": {
   "display_name": "Python 3 (ipykernel)",
   "language": "python",
   "name": "python3"
  },
  "language_info": {
   "codemirror_mode": {
    "name": "ipython",
    "version": 3
   },
   "file_extension": ".py",
   "mimetype": "text/x-python",
   "name": "python",
   "nbconvert_exporter": "python",
   "pygments_lexer": "ipython3",
   "version": "3.9.9"
  },
  "toc": {
   "base_numbering": 1,
   "nav_menu": {},
   "number_sections": true,
   "sideBar": true,
   "skip_h1_title": false,
   "title_cell": "Table of Contents",
   "title_sidebar": "Contents",
   "toc_cell": false,
   "toc_position": {},
   "toc_section_display": true,
   "toc_window_display": false
  },
  "varInspector": {
   "cols": {
    "lenName": 16,
    "lenType": 16,
    "lenVar": 40
   },
   "kernels_config": {
    "python": {
     "delete_cmd_postfix": "",
     "delete_cmd_prefix": "del ",
     "library": "var_list.py",
     "varRefreshCmd": "print(var_dic_list())"
    },
    "r": {
     "delete_cmd_postfix": ") ",
     "delete_cmd_prefix": "rm(",
     "library": "var_list.r",
     "varRefreshCmd": "cat(var_dic_list()) "
    }
   },
   "types_to_exclude": [
    "module",
    "function",
    "builtin_function_or_method",
    "instance",
    "_Feature"
   ],
   "window_display": false
  }
 },
 "nbformat": 4,
 "nbformat_minor": 5
}
