{
 "cells": [
  {
   "cell_type": "markdown",
   "id": "70d66152",
   "metadata": {},
   "source": [
    "# Exploaity Data Analysis - EDA"
   ]
  },
  {
   "cell_type": "markdown",
   "id": "81f6202a",
   "metadata": {},
   "source": [
    "## Import libraries"
   ]
  },
  {
   "cell_type": "code",
   "execution_count": 3,
   "id": "9d701ac9",
   "metadata": {},
   "outputs": [],
   "source": [
    "import pandas as pd \n"
   ]
  },
  {
   "cell_type": "markdown",
   "id": "9dc6ea1c",
   "metadata": {},
   "source": [
    "## Load data"
   ]
  },
  {
   "cell_type": "code",
   "execution_count": 8,
   "id": "7e383a55",
   "metadata": {},
   "outputs": [],
   "source": [
    "df = pd.read_csv('Data/clean_london_data.csv')"
   ]
  },
  {
   "cell_type": "code",
   "execution_count": 9,
   "id": "17307d4d",
   "metadata": {},
   "outputs": [
    {
     "data": {
      "text/html": [
       "<div>\n",
       "<style scoped>\n",
       "    .dataframe tbody tr th:only-of-type {\n",
       "        vertical-align: middle;\n",
       "    }\n",
       "\n",
       "    .dataframe tbody tr th {\n",
       "        vertical-align: top;\n",
       "    }\n",
       "\n",
       "    .dataframe thead th {\n",
       "        text-align: right;\n",
       "    }\n",
       "</style>\n",
       "<table border=\"1\" class=\"dataframe\">\n",
       "  <thead>\n",
       "    <tr style=\"text-align: right;\">\n",
       "      <th></th>\n",
       "      <th>Borough</th>\n",
       "      <th>Area (sq mi)</th>\n",
       "      <th>Population_2019</th>\n",
       "      <th>Density</th>\n",
       "      <th>Median_Househols_Income</th>\n",
       "      <th>N_employees</th>\n",
       "      <th>latitude</th>\n",
       "      <th>longitude</th>\n",
       "    </tr>\n",
       "  </thead>\n",
       "  <tbody>\n",
       "    <tr>\n",
       "      <th>0</th>\n",
       "      <td>Barnet</td>\n",
       "      <td>33.49</td>\n",
       "      <td>395896</td>\n",
       "      <td>4,520</td>\n",
       "      <td>34,163</td>\n",
       "      <td>134,650</td>\n",
       "      <td>51.5607</td>\n",
       "      <td>0.1557</td>\n",
       "    </tr>\n",
       "    <tr>\n",
       "      <th>1</th>\n",
       "      <td>Bexley</td>\n",
       "      <td>23.38</td>\n",
       "      <td>248287</td>\n",
       "      <td>4,082</td>\n",
       "      <td>29,192</td>\n",
       "      <td>78,930</td>\n",
       "      <td>51.4549</td>\n",
       "      <td>0.1505</td>\n",
       "    </tr>\n",
       "    <tr>\n",
       "      <th>2</th>\n",
       "      <td>Brent</td>\n",
       "      <td>16.70</td>\n",
       "      <td>329771</td>\n",
       "      <td>7,652</td>\n",
       "      <td>28,847</td>\n",
       "      <td>123,260</td>\n",
       "      <td>51.5588</td>\n",
       "      <td>0.2817</td>\n",
       "    </tr>\n",
       "    <tr>\n",
       "      <th>3</th>\n",
       "      <td>Bromley</td>\n",
       "      <td>57.97</td>\n",
       "      <td>332336</td>\n",
       "      <td>2,205</td>\n",
       "      <td>33,659</td>\n",
       "      <td>108,250</td>\n",
       "      <td>51.4039</td>\n",
       "      <td>0.0198</td>\n",
       "    </tr>\n",
       "    <tr>\n",
       "      <th>4</th>\n",
       "      <td>Camden</td>\n",
       "      <td>8.40</td>\n",
       "      <td>270029</td>\n",
       "      <td>12,035</td>\n",
       "      <td>36,053</td>\n",
       "      <td>382,785</td>\n",
       "      <td>51.5290</td>\n",
       "      <td>0.1255</td>\n",
       "    </tr>\n",
       "  </tbody>\n",
       "</table>\n",
       "</div>"
      ],
      "text/plain": [
       "   Borough  Area (sq mi)  Population_2019 Density Median_Househols_Income  \\\n",
       "0   Barnet         33.49           395896   4,520                  34,163   \n",
       "1   Bexley         23.38           248287   4,082                  29,192   \n",
       "2    Brent         16.70           329771   7,652                  28,847   \n",
       "3  Bromley         57.97           332336   2,205                  33,659   \n",
       "4   Camden          8.40           270029  12,035                  36,053   \n",
       "\n",
       "  N_employees  latitude  longitude  \n",
       "0     134,650   51.5607     0.1557  \n",
       "1      78,930   51.4549     0.1505  \n",
       "2     123,260   51.5588     0.2817  \n",
       "3     108,250   51.4039     0.0198  \n",
       "4     382,785   51.5290     0.1255  "
      ]
     },
     "execution_count": 9,
     "metadata": {},
     "output_type": "execute_result"
    }
   ],
   "source": [
    "df.head()"
   ]
  },
  {
   "cell_type": "markdown",
   "id": "0b1fce1c",
   "metadata": {},
   "source": [
    "## Check for null values"
   ]
  },
  {
   "cell_type": "code",
   "execution_count": 11,
   "id": "ed1e8cce",
   "metadata": {},
   "outputs": [
    {
     "data": {
      "text/plain": [
       "Borough                    0\n",
       "Area (sq mi)               0\n",
       "Population_2019            0\n",
       "Density                    0\n",
       "Median_Househols_Income    0\n",
       "N_employees                0\n",
       "latitude                   0\n",
       "longitude                  0\n",
       "dtype: int64"
      ]
     },
     "execution_count": 11,
     "metadata": {},
     "output_type": "execute_result"
    }
   ],
   "source": [
    "df.isna().sum()\n"
   ]
  },
  {
   "cell_type": "markdown",
   "id": "fd793048",
   "metadata": {},
   "source": [
    "## Check for duplicated values"
   ]
  },
  {
   "cell_type": "code",
   "execution_count": 13,
   "id": "36c5e239",
   "metadata": {},
   "outputs": [
    {
     "data": {
      "text/plain": [
       "0"
      ]
     },
     "execution_count": 13,
     "metadata": {},
     "output_type": "execute_result"
    }
   ],
   "source": [
    "len(df[df.duplicated()])\n"
   ]
  },
  {
   "cell_type": "code",
   "execution_count": null,
   "id": "8eb5ccfe",
   "metadata": {},
   "outputs": [],
   "source": []
  }
 ],
 "metadata": {
  "kernelspec": {
   "display_name": "Python 3 (ipykernel)",
   "language": "python",
   "name": "python3"
  },
  "language_info": {
   "codemirror_mode": {
    "name": "ipython",
    "version": 3
   },
   "file_extension": ".py",
   "mimetype": "text/x-python",
   "name": "python",
   "nbconvert_exporter": "python",
   "pygments_lexer": "ipython3",
   "version": "3.9.9"
  },
  "toc": {
   "base_numbering": 1,
   "nav_menu": {},
   "number_sections": true,
   "sideBar": true,
   "skip_h1_title": false,
   "title_cell": "Table of Contents",
   "title_sidebar": "Contents",
   "toc_cell": false,
   "toc_position": {},
   "toc_section_display": true,
   "toc_window_display": false
  },
  "varInspector": {
   "cols": {
    "lenName": 16,
    "lenType": 16,
    "lenVar": 40
   },
   "kernels_config": {
    "python": {
     "delete_cmd_postfix": "",
     "delete_cmd_prefix": "del ",
     "library": "var_list.py",
     "varRefreshCmd": "print(var_dic_list())"
    },
    "r": {
     "delete_cmd_postfix": ") ",
     "delete_cmd_prefix": "rm(",
     "library": "var_list.r",
     "varRefreshCmd": "cat(var_dic_list()) "
    }
   },
   "types_to_exclude": [
    "module",
    "function",
    "builtin_function_or_method",
    "instance",
    "_Feature"
   ],
   "window_display": false
  }
 },
 "nbformat": 4,
 "nbformat_minor": 5
}
